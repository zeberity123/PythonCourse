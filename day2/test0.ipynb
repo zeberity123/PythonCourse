{
 "cells": [
  {
   "cell_type": "code",
   "execution_count": 1,
   "metadata": {},
   "outputs": [
    {
     "name": "stdout",
     "output_type": "stream",
     "text": [
      "for loop\n",
      "for loop\n",
      "for loop\n",
      "for loop\n",
      "for loop\n",
      "for loop\n"
     ]
    }
   ],
   "source": [
    "for i in range(0,3,1):\n",
    "    print(\"for loop\")\n",
    "\n",
    "for i in [0, 1, 2]:\n",
    "    print(\"for loop\")"
   ]
  },
  {
   "cell_type": "code",
   "execution_count": null,
   "metadata": {},
   "outputs": [],
   "source": [
    "i, hap = 0,0\n",
    "num = 0\n",
    "\n",
    "num = int(input(\"값 입력:\"))\n",
    "\n",
    "for i in range(1, num+1, 1):\n",
    "    hap = hap+i\n",
    "print(\"1에서 %d까지 합: %d\" % (num, hap))"
   ]
  }
 ],
 "metadata": {
  "kernelspec": {
   "display_name": "Python 3",
   "language": "python",
   "name": "python3"
  },
  "language_info": {
   "codemirror_mode": {
    "name": "ipython",
    "version": 3
   },
   "file_extension": ".py",
   "mimetype": "text/x-python",
   "name": "python",
   "nbconvert_exporter": "python",
   "pygments_lexer": "ipython3",
   "version": "3.12.1"
  }
 },
 "nbformat": 4,
 "nbformat_minor": 2
}
